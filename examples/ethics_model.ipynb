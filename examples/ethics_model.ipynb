{
  "nbformat": 4,
  "nbformat_minor": 0,
  "metadata": {
    "colab": {
      "private_outputs": true,
      "provenance": [],
      "toc_visible": true,
      "machine_shape": "hm",
      "cell_execution_strategy": "setup"
    },
    "kernelspec": {
      "name": "python3",
      "display_name": "Python 3"
    },
    "language_info": {
      "name": "python"
    }
  },
  "cells": [
    {
      "cell_type": "markdown",
      "source": [
        "# Setup"
      ],
      "metadata": {
        "id": "uhgFJfFqhj73"
      }
    },
    {
      "cell_type": "code",
      "source": [
        "# @title System update\n",
        "%%capture\n",
        "!apt update && apt upgrade -y\n",
        "!uv pip install --upgrade pip"
      ],
      "metadata": {
        "collapsed": true,
        "id": "N9bX6aIiHY0S"
      },
      "execution_count": null,
      "outputs": []
    },
    {
      "cell_type": "code",
      "source": [
        "from google.colab import userdata\n",
        "import os\n",
        "os.environ['GIT_TOKEN'] = userdata.get('git_token')\n",
        "os.environ['USER_NAME'] = userdata.get('user_name')\n",
        "os.environ['USER_MAIL'] = userdata.get('user_mail')"
      ],
      "metadata": {
        "id": "98HCxhTvKutG"
      },
      "execution_count": null,
      "outputs": []
    },
    {
      "cell_type": "code",
      "source": [
        "%%bash\n",
        "git config --global user.name \"$USER_NAME\"\n",
        "git config --global user.email \"$USER_MAIL\"\n",
        "git clone https://$GIT_TOKEN@github.com/bjoernbethge/ethics-model.git\n"
      ],
      "metadata": {
        "collapsed": true,
        "id": "Gw37VyQ_Fgmw"
      },
      "execution_count": null,
      "outputs": []
    },
    {
      "cell_type": "code",
      "source": [
        "%cd ethics-model"
      ],
      "metadata": {
        "id": "TMFm5knwOWyK"
      },
      "execution_count": null,
      "outputs": []
    },
    {
      "cell_type": "code",
      "source": [
        "%%bash\n",
        "\n",
        "uv sync --extra train\n",
        "chmod +x .venv/bin/activate"
      ],
      "metadata": {
        "id": "ma3Ig1qVHOe0"
      },
      "execution_count": null,
      "outputs": []
    },
    {
      "cell_type": "code",
      "source": [
        "%%bash\n",
        "source .venv/bin/activate"
      ],
      "metadata": {
        "id": "Oyr1zNTRIFtZ"
      },
      "execution_count": null,
      "outputs": []
    },
    {
      "cell_type": "code",
      "source": [
        "!.venv/bin/activate"
      ],
      "metadata": {
        "id": "fo0YmrDZNDMm"
      },
      "execution_count": null,
      "outputs": []
    },
    {
      "cell_type": "code",
      "source": [
        "# @title Imports\n",
        "\n",
        "import os\n",
        "import torch\n",
        "import random\n",
        "import logging\n",
        "from torch.utils.data import DataLoader\n",
        "from torch.utils.tensorboard import SummaryWriter\n",
        "from transformers import AutoTokenizer, AutoModelForCausalLM, BitsAndBytesConfig\n",
        "from datasets import load_dataset\n",
        "import nlpaug.augmenter.word as naw\n",
        "\n",
        "from ethics_model.model import EthicsModel\n",
        "from ethics_model.data import MultiTaskDataset\n",
        "from ethics_model.training import train\n"
      ],
      "metadata": {
        "id": "ty-htHdAE_ah"
      },
      "execution_count": null,
      "outputs": []
    },
    {
      "cell_type": "markdown",
      "source": [],
      "metadata": {
        "id": "0jLM2wGTpJ__"
      }
    },
    {
      "cell_type": "markdown",
      "source": [
        "\n",
        "\n",
        "\n",
        "\n",
        "# Configuration"
      ],
      "metadata": {
        "id": "RqXhTNuipPJS"
      }
    },
    {
      "cell_type": "code",
      "source": [
        "# @title  Logging & directories\n",
        "from google.colab import drive\n",
        "drive.mount('/content/drive')\n",
        "\n",
        "logging.basicConfig(level=logging.INFO, format='%(asctime)s %(levelname)s %(message)s')\n",
        "logger = logging.getLogger(__name__)\n",
        "\n",
        "DEVICE = torch.device('cuda' if torch.cuda.is_available() else 'cpu')\n",
        "CHECKPOINT_PATH = \"checkpoints/best_ethics_model.pt\"\n",
        "TENSORBOARD_LOGDIR = \"runs/ethics_llm_train\"\n",
        "os.makedirs(os.path.dirname(CHECKPOINT_PATH), exist_ok=True)"
      ],
      "metadata": {
        "id": "28615EJEpL0e"
      },
      "execution_count": null,
      "outputs": []
    },
    {
      "cell_type": "code",
      "source": [
        "# @title  LLM & Tokenizer\n",
        "huggingface_model = 'unsloth/gemma-3-4b-it-unsloth-bnb-4bit' # @param {type:\"string\"}\n",
        "bnb_config = BitsAndBytesConfig(load_in_4bit=True)\n",
        "tokenizer = AutoTokenizer.from_pretrained(huggingface_llm)\n",
        "llm = AutoModelForCausalLM.from_pretrained(\n",
        "    huggingface_llm,\n",
        "    quantization_config=bnb_config,\n",
        "    device_map=\"auto\"\n",
        ")\n",
        "llm.eval()\n"
      ],
      "metadata": {
        "id": "doB_BcxGp-hR"
      },
      "execution_count": null,
      "outputs": []
    },
    {
      "cell_type": "code",
      "source": [
        "# @title Model Configuration\n",
        "\n",
        "n_layers = 2  # @param {type:\"integer\", min:1, max:12, step:1}\n",
        "n_heads = 8  # @param {type:\"integer\", min:1, max:16, step:1}\n",
        "max_seq_length = 128  # @param {type:\"integer\", min:64, max:512, step:64}\n",
        "activation = 'gelu'  # @param [\"gelu\", \"relu\", \"tanh\"]\n",
        "use_gnn = False  # @param {type:\"boolean\"}\n",
        "\n",
        "model_config = {\n",
        "    'input_dim': llm.config.hidden_size,\n",
        "    'd_model': llm.config.hidden_size,\n",
        "    'n_layers': n_layers,\n",
        "    'n_heads': n_heads,\n",
        "    'vocab_size': tokenizer.vocab_size,\n",
        "    'max_seq_length': max_seq_length,\n",
        "    'activation': activation,\n",
        "    'use_gnn': use_gnn\n",
        "}\n",
        "\n",
        "model = EthicsModel(**model_config).to(DEVICE)\n",
        "optimizer = torch.optim.AdamW(model.parameters(), lr=2e-5)\n",
        "criterion = torch.nn.BCELoss()"
      ],
      "metadata": {
        "cellView": "form",
        "id": "j58p4dJrA_fh"
      },
      "execution_count": null,
      "outputs": []
    },
    {
      "cell_type": "markdown",
      "source": [
        "# Data"
      ],
      "metadata": {
        "id": "Sumxbfa4vY0w"
      }
    },
    {
      "cell_type": "code",
      "source": [
        "# @title  Augmentation\n",
        "\n",
        "aug = naw.SynonymAug(aug_src='wordnet')\n",
        "def synonym_augment(text):\n",
        "    try:\n",
        "        return aug.augment(text)\n",
        "    except Exception:\n",
        "        return text"
      ],
      "metadata": {
        "id": "l8MSkTJmsNeP"
      },
      "execution_count": null,
      "outputs": []
    },
    {
      "cell_type": "code",
      "source": [
        "# @title  Preparation\n",
        "\n",
        "ds = load_dataset(\"flozi00/Fineweb2-German-Eduscore-4andMore\", split=\"train[:1000]\")\n",
        "texts = ds[\"text\"]\n",
        "ethics_labels = [float(x) for x in ds[\"eduscore\"]]\n",
        "manipulation_labels = [float(x) for x in ds[\"manipulation_score\"]] if \"manipulation_score\" in ds.column_names else ethics_labels\n",
        "\n",
        "dataset = MultiTaskDataset(\n",
        "    texts, ethics_labels, manipulation_labels, tokenizer,\n",
        "    augment=True, synonym_augment=synonym_augment\n",
        ")\n",
        "dataloader = DataLoader(dataset, batch_size=4, shuffle=True)"
      ],
      "metadata": {
        "id": "rqs_RYZTAoBp"
      },
      "execution_count": null,
      "outputs": []
    },
    {
      "cell_type": "markdown",
      "source": [
        "# Run"
      ],
      "metadata": {
        "id": "DOtLiXzBBpri"
      }
    },
    {
      "cell_type": "code",
      "source": [
        "# @title  Training\n",
        "writer = SummaryWriter(log_dir=TENSORBOARD_LOGDIR)\n",
        "model_trained = train(model, llm, dataloader, optimizer, criterion, writer, DEVICE)\n",
        "writer.close()"
      ],
      "metadata": {
        "cellView": "form",
        "id": "5AxmBbR5BwZY"
      },
      "execution_count": null,
      "outputs": []
    },
    {
      "cell_type": "code",
      "source": [
        "# @title  Evaluation\n",
        "def evaluate(model, llm, dataloader, tokenizer, device):\n",
        "    model.eval()\n",
        "    with torch.no_grad():\n",
        "        for batch in dataloader:\n",
        "            input_ids = batch['input_ids'].to(device)\n",
        "            attention_mask = batch['attention_mask'].to(device)\n",
        "            ethics_label = batch['ethics_label'].to(device)\n",
        "            manipulation_label = batch['manipulation_label'].to(device)\n",
        "            llm_outputs = llm.model.transformer(input_ids) if hasattr(llm, 'model') else llm.transformer(input_ids)\n",
        "            hidden_states = llm_outputs.last_hidden_state\n",
        "            outputs = model(embeddings=hidden_states, attention_mask=attention_mask)\n",
        "            ethics_score = outputs['ethics_score']\n",
        "            manipulation_score = outputs['manipulation_score']\n",
        "            print(f\"Text: {tokenizer.batch_decode(input_ids, skip_special_tokens=True)}\")\n",
        "            print(f\"Ethics Score: {ethics_score.squeeze(-1).cpu().numpy()} | Label: {ethics_label.squeeze(-1).cpu().numpy()}\")\n",
        "            print(f\"Manipulation Score: {manipulation_score.squeeze(-1).cpu().numpy()} | Label: {manipulation_label.squeeze(-1).cpu().numpy()}\")\n",
        "\n",
        "evaluate(model_trained, llm, dataloader, tokenizer, DEVICE)"
      ],
      "metadata": {
        "cellView": "form",
        "id": "fKoLpfCvCJ5F"
      },
      "execution_count": null,
      "outputs": []
    }
  ]
}